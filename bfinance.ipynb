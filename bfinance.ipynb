{
 "cells": [
  {
   "cell_type": "code",
   "execution_count": 3,
   "id": "e1eacae5-edae-46ed-afd8-f5595a0a8f3a",
   "metadata": {},
   "outputs": [
    {
     "name": "stdout",
     "output_type": "stream",
     "text": [
      "SNXUSDT\n"
     ]
    },
    {
     "ename": "NameError",
     "evalue": "name 'get_binance_coin' is not defined",
     "output_type": "error",
     "traceback": [
      "\u001b[1;31m---------------------------------------------------------------------------\u001b[0m",
      "\u001b[1;31mNameError\u001b[0m                                 Traceback (most recent call last)",
      "\u001b[1;32m~\\AppData\\Local\\Temp/ipykernel_14324/245473912.py\u001b[0m in \u001b[0;36m<module>\u001b[1;34m\u001b[0m\n\u001b[0;32m     36\u001b[0m     \u001b[0massets\u001b[0m\u001b[1;33m.\u001b[0m\u001b[0mindex\u001b[0m \u001b[1;33m=\u001b[0m \u001b[0mpd\u001b[0m\u001b[1;33m.\u001b[0m\u001b[0mto_datetime\u001b[0m\u001b[1;33m(\u001b[0m\u001b[0massets\u001b[0m\u001b[1;33m.\u001b[0m\u001b[0mindex\u001b[0m\u001b[1;33m)\u001b[0m\u001b[1;33m\u001b[0m\u001b[1;33m\u001b[0m\u001b[0m\n\u001b[0;32m     37\u001b[0m     \u001b[1;32mreturn\u001b[0m \u001b[0massets\u001b[0m\u001b[1;33m\u001b[0m\u001b[1;33m\u001b[0m\u001b[0m\n\u001b[1;32m---> 38\u001b[1;33m \u001b[0mdata\u001b[0m \u001b[1;33m=\u001b[0m \u001b[0mdownload\u001b[0m\u001b[1;33m(\u001b[0m\u001b[1;33m[\u001b[0m\u001b[1;34m'SNXUSDT'\u001b[0m\u001b[1;33m,\u001b[0m\u001b[1;34m'ETHUSDT'\u001b[0m\u001b[1;33m,\u001b[0m\u001b[1;34m'FILUSDT'\u001b[0m\u001b[1;33m,\u001b[0m\u001b[1;34m'KSMUSDT'\u001b[0m\u001b[1;33m,\u001b[0m\u001b[1;34m'UNIUSDT'\u001b[0m\u001b[1;33m]\u001b[0m\u001b[1;33m,\u001b[0m \u001b[0mdt\u001b[0m\u001b[1;33m.\u001b[0m\u001b[0mdatetime\u001b[0m\u001b[1;33m(\u001b[0m\u001b[1;36m2020\u001b[0m\u001b[1;33m,\u001b[0m \u001b[1;36m12\u001b[0m\u001b[1;33m,\u001b[0m \u001b[1;36m1\u001b[0m\u001b[1;33m)\u001b[0m\u001b[1;33m,\u001b[0m \u001b[0mdt\u001b[0m\u001b[1;33m.\u001b[0m\u001b[0mdatetime\u001b[0m\u001b[1;33m(\u001b[0m\u001b[1;36m2021\u001b[0m\u001b[1;33m,\u001b[0m \u001b[1;36m11\u001b[0m\u001b[1;33m,\u001b[0m \u001b[1;36m1\u001b[0m\u001b[1;33m)\u001b[0m \u001b[1;33m)\u001b[0m\u001b[1;33m\u001b[0m\u001b[1;33m\u001b[0m\u001b[0m\n\u001b[0m\u001b[0;32m     39\u001b[0m \u001b[0mdata\u001b[0m\u001b[1;33m\u001b[0m\u001b[1;33m\u001b[0m\u001b[0m\n",
      "\u001b[1;32m~\\AppData\\Local\\Temp/ipykernel_14324/245473912.py\u001b[0m in \u001b[0;36mdownload\u001b[1;34m(tickers, start, end)\u001b[0m\n\u001b[0;32m     32\u001b[0m     \u001b[1;32mfor\u001b[0m \u001b[0mticker\u001b[0m \u001b[1;32min\u001b[0m \u001b[0mtickers\u001b[0m\u001b[1;33m:\u001b[0m\u001b[1;33m\u001b[0m\u001b[1;33m\u001b[0m\u001b[0m\n\u001b[0;32m     33\u001b[0m         \u001b[0mprint\u001b[0m \u001b[1;33m(\u001b[0m\u001b[0mticker\u001b[0m\u001b[1;33m)\u001b[0m\u001b[1;33m\u001b[0m\u001b[1;33m\u001b[0m\u001b[0m\n\u001b[1;32m---> 34\u001b[1;33m         \u001b[0mcoin\u001b[0m \u001b[1;33m=\u001b[0m \u001b[0mget_binance_coin\u001b[0m\u001b[1;33m(\u001b[0m\u001b[0mticker\u001b[0m\u001b[1;33m,\u001b[0m \u001b[0mstart\u001b[0m\u001b[1;33m,\u001b[0m \u001b[0mend\u001b[0m\u001b[1;33m)\u001b[0m\u001b[1;33m\u001b[0m\u001b[1;33m\u001b[0m\u001b[0m\n\u001b[0m\u001b[0;32m     35\u001b[0m         \u001b[0massets\u001b[0m \u001b[1;33m=\u001b[0m \u001b[0mpd\u001b[0m\u001b[1;33m.\u001b[0m\u001b[0mconcat\u001b[0m\u001b[1;33m(\u001b[0m\u001b[1;33m[\u001b[0m\u001b[0massets\u001b[0m\u001b[1;33m,\u001b[0m \u001b[0mcoin\u001b[0m\u001b[1;33m]\u001b[0m\u001b[1;33m,\u001b[0m \u001b[0maxis\u001b[0m\u001b[1;33m=\u001b[0m\u001b[1;36m1\u001b[0m\u001b[1;33m)\u001b[0m\u001b[1;33m\u001b[0m\u001b[1;33m\u001b[0m\u001b[0m\n\u001b[0;32m     36\u001b[0m     \u001b[0massets\u001b[0m\u001b[1;33m.\u001b[0m\u001b[0mindex\u001b[0m \u001b[1;33m=\u001b[0m \u001b[0mpd\u001b[0m\u001b[1;33m.\u001b[0m\u001b[0mto_datetime\u001b[0m\u001b[1;33m(\u001b[0m\u001b[0massets\u001b[0m\u001b[1;33m.\u001b[0m\u001b[0mindex\u001b[0m\u001b[1;33m)\u001b[0m\u001b[1;33m\u001b[0m\u001b[1;33m\u001b[0m\u001b[0m\n",
      "\u001b[1;31mNameError\u001b[0m: name 'get_binance_coin' is not defined"
     ]
    }
   ],
   "source": [
    "import requests                    # for \"get\" request to API\n",
    "import json                        # parse json into a list\n",
    "import pandas as pd                # working with data frames\n",
    "import datetime as dt              # working with dates\n",
    "import matplotlib.pyplot as plt    # plot data\n",
    "import qgrid                       # display dataframe in notebooks \n",
    "import numpy as np\n",
    "class bfinance:\n",
    "    def get_binance_coin(symbol, startTime, endTime): \n",
    "        url = \"https://api.binance.com/api/v3/klines\"\n",
    "\n",
    "        startTime = str(int(startTime.timestamp() * 1000))\n",
    "        endTime = str(int(endTime.timestamp() * 1000))\n",
    "        limit = '1000'\n",
    "\n",
    "        req_params = {\"symbol\" : symbol, 'interval' : '1d', 'startTime' : startTime, 'endTime' : endTime, 'limit' : limit}\n",
    "\n",
    "        #get raw json data & frame it\n",
    "        raw = json.loads(requests.get(url, params = req_params).text )\n",
    "        data = pd.DataFrame(raw)\n",
    "\n",
    "        #format columns name\n",
    "        data.columns = ['datetime', 'open', 'high', 'low', 'close', 'volume','close_time', 'qav', 'num_trades','taker_base_vol', 'taker_quote_vol', 'ignore']\n",
    "        data.index = [dt.datetime.fromtimestamp(x/1000.0) for x in data.datetime]\n",
    "        data.set_index(pd.DatetimeIndex(data['datetime']))\n",
    "        data = data.astype(float)\n",
    "        data = data.rename(columns={'close': symbol})\n",
    "        data = data[symbol]\n",
    "        return data\n",
    "def download(tickers, start ,end):\n",
    "    assets = pd.DataFrame()\n",
    "    for ticker in tickers:\n",
    "        print (ticker)\n",
    "        coin = bfinance.get_binance_coin(ticker, start, end)\n",
    "        assets = pd.concat([assets, coin], axis=1) \n",
    "    assets.index = pd.to_datetime(assets.index)\n",
    "    return assets\n",
    "data = download(['SNXUSDT','ETHUSDT','FILUSDT','KSMUSDT','UNIUSDT'], dt.datetime(2020, 12, 1), dt.datetime(2021, 11, 1) )\n",
    "data"
   ]
  },
  {
   "cell_type": "code",
   "execution_count": null,
   "id": "27c765a1-cc96-4af1-8ca4-89f21d5c2e9a",
   "metadata": {},
   "outputs": [],
   "source": []
  }
 ],
 "metadata": {
  "interpreter": {
   "hash": "037d79e203d8dfb6cbba92bfc39b5a28c24d67e7e244ffb80392605c2e8b6c25"
  },
  "kernelspec": {
   "display_name": "Python 3 (ipykernel)",
   "language": "python",
   "name": "python3"
  },
  "language_info": {
   "codemirror_mode": {
    "name": "ipython",
    "version": 3
   },
   "file_extension": ".py",
   "mimetype": "text/x-python",
   "name": "python",
   "nbconvert_exporter": "python",
   "pygments_lexer": "ipython3",
   "version": "3.9.5"
  }
 },
 "nbformat": 4,
 "nbformat_minor": 5
}
