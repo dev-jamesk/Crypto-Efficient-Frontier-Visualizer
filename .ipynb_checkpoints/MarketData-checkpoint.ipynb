{
 "cells": [
  {
   "cell_type": "code",
   "execution_count": 75,
   "id": "e1eacae5-edae-46ed-afd8-f5595a0a8f3a",
   "metadata": {},
   "outputs": [
    {
     "name": "stdout",
     "output_type": "stream",
     "text": [
      "{'code': -1101, 'msg': \"Duplicate values for parameter 'symbol'.\"}\n"
     ]
    }
   ],
   "source": [
    "import requests                    # for \"get\" request to API\n",
    "import json                        # parse json into a list\n",
    "import pandas as pd                # working with data frames\n",
    "import datetime as dt              # working with dates\n",
    "import matplotlib.pyplot as plt    # plot data\n",
    "import qgrid                       # display dataframe in notebooks \n",
    "\n",
    "def binanceDataFrame( klines):\n",
    "    df = pd.DataFrame(klines.reshape(-1,12),dtype=float, columns = ('Open Time',\n",
    "                                                                    'Open',\n",
    "                                                                    'High',\n",
    "                                                                    'Low',\n",
    "                                                                    'Close',\n",
    "                                                                    'Volume',\n",
    "                                                                    'Close time',\n",
    "                                                                    'Quote asset volume',\n",
    "                                                                    'Number of trades',\n",
    "                                                                    'Taker buy base asset volume',\n",
    "                                                                    'Taker buy quote asset volume',\n",
    "                                                                    'Ignore'))\n",
    "\n",
    "    df['Open Time'] = pd.to_datetime(df['Open Time'], unit='ms')\n",
    "\n",
    "\n",
    "    return df\n",
    "def get_binance_bars(symbol, interval, startTime, endTime): \n",
    "    url = \"https://api.binance.com/api/v3/klines\"\n",
    " \n",
    "    startTime = str(int(startTime.timestamp() * 1000))\n",
    "    endTime = str(int(endTime.timestamp() * 1000))\n",
    "    limit = '1000'\n",
    " \n",
    "    req_params = {\"symbol\" : symbol, 'interval' : interval, 'startTime' : startTime, 'endTime' : endTime, 'limit' : limit}\n",
    " \n",
    "    raw = requests.get(url, params = req_params).json()\n",
    "    #df = df.rename(columns = {0: 'Open time', 1: 'Open', 2: 'High', 3: 'Low', 4:'Close',5:'Volume',6:'Close time',7:'Quote asset volume',8:'Number of trades',9:'Taker buy base asset volume',10:'Taker buy quote asset volume',11:'Ignore'})\n",
    "    #df =  pd.read_json(raw)\n",
    "    #klines30 = np.array(raw)\n",
    "    #df = binanceDataFrame(klines30)\n",
    "    return raw\n",
    "\n",
    "print (get_binance_bars(['ETHUSDT','BTCUSDT'], '1d', dt.datetime(2020, 1, 1), dt.datetime(2021, 3, 1)))\n"
   ]
  },
  {
   "cell_type": "code",
   "execution_count": null,
   "id": "27c765a1-cc96-4af1-8ca4-89f21d5c2e9a",
   "metadata": {},
   "outputs": [],
   "source": []
  }
 ],
 "metadata": {
  "kernelspec": {
   "display_name": "Python 3 (ipykernel)",
   "language": "python",
   "name": "python3"
  },
  "language_info": {
   "codemirror_mode": {
    "name": "ipython",
    "version": 3
   },
   "file_extension": ".py",
   "mimetype": "text/x-python",
   "name": "python",
   "nbconvert_exporter": "python",
   "pygments_lexer": "ipython3",
   "version": "3.9.5"
  }
 },
 "nbformat": 4,
 "nbformat_minor": 5
}
