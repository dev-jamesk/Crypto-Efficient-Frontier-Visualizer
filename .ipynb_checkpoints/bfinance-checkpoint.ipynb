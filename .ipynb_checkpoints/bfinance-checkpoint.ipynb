{
 "cells": [
  {
   "cell_type": "code",
   "execution_count": 8,
   "id": "e1eacae5-edae-46ed-afd8-f5595a0a8f3a",
   "metadata": {},
   "outputs": [
    {
     "name": "stdout",
     "output_type": "stream",
     "text": [
      "2020-11-01 18:00:00    29.6401\n",
      "2020-11-02 18:00:00    28.8364\n",
      "2020-11-03 18:00:00    28.8967\n",
      "2020-11-04 18:00:00    29.3544\n",
      "2020-11-05 18:00:00    31.6801\n",
      "                        ...   \n",
      "2021-10-27 19:00:00    58.1400\n",
      "2021-10-28 19:00:00    60.2000\n",
      "2021-10-29 19:00:00    61.4800\n",
      "2021-10-30 19:00:00    64.4000\n",
      "2021-10-31 19:00:00    63.8800\n",
      "Name: FILUSDT, Length: 365, dtype: float64\n",
      "BTCUSDT\n",
      "ETHUSDT\n",
      "FILUSDT\n",
      "LINKUSDT\n",
      "UNIUSDT\n",
      "Empty DataFrame\n",
      "Columns: []\n",
      "Index: []\n"
     ]
    }
   ],
   "source": [
    "import requests                    # for \"get\" request to API\n",
    "import json                        # parse json into a list\n",
    "import pandas as pd                # working with data frames\n",
    "import datetime as dt              # working with dates\n",
    "import matplotlib.pyplot as plt    # plot data\n",
    "import qgrid                       # display dataframe in notebooks \n",
    "import numpy as np\n",
    "class bfinance:\n",
    "    def get_binance_coin(symbol, startTime, endTime): \n",
    "        url = \"https://api.binance.com/api/v3/klines\"\n",
    "    \n",
    "        startTime = str(int(startTime.timestamp() * 1000))\n",
    "        endTime = str(int(endTime.timestamp() * 1000))\n",
    "        limit = '1000'\n",
    "    \n",
    "        req_params = {\"symbol\" : symbol, 'interval' : '1d', 'startTime' : startTime, 'endTime' : endTime, 'limit' : limit}\n",
    "\n",
    "        #get raw json data & frame it\n",
    "        raw = json.loads(requests.get(url, params = req_params).text )\n",
    "        data = pd.DataFrame(raw)\n",
    "\n",
    "        #format columns name\n",
    "        data.columns = ['datetime', 'open', 'high', 'low', 'close', 'volume','close_time', 'qav', 'num_trades','taker_base_vol', 'taker_quote_vol', 'ignore']\n",
    "        data.index = [dt.datetime.fromtimestamp(x/1000.0) for x in data.datetime]\n",
    "        data=data.astype(float)\n",
    "        data = data.rename(columns={'close': symbol})\n",
    "        data = data[symbol]\n",
    "        return data\n",
    "\n",
    "    print (get_binance_coin('FILUSDT', dt.datetime(2020, 11, 1), dt.datetime(2021, 11, 1)))\n",
    "\n",
    "    def download(tickers, start ,end):\n",
    "        assets = pd.DataFrame()\n",
    "        for ticker in tickers:\n",
    "            print (ticker)\n",
    "            coin = bfinance.get_binance_coin(ticker, start, end)\n",
    "            assets = pd.concat([assets, coin], axis=1) \n",
    "        return assets\n",
    "    print (download(['BTCUSDT','ETHUSDT','FILUSDT','LINKUSDT','UNIUSDT'], dt.datetime(2020, 11, 1), dt.datetime(2021, 11, 1) ))\n"
   ]
  },
  {
   "cell_type": "code",
   "execution_count": null,
   "id": "27c765a1-cc96-4af1-8ca4-89f21d5c2e9a",
   "metadata": {},
   "outputs": [],
   "source": []
  }
 ],
 "metadata": {
  "interpreter": {
   "hash": "037d79e203d8dfb6cbba92bfc39b5a28c24d67e7e244ffb80392605c2e8b6c25"
  },
  "kernelspec": {
   "display_name": "Python 3.9.5 64-bit",
   "name": "python3"
  },
  "language_info": {
   "codemirror_mode": {
    "name": "ipython",
    "version": 3
   },
   "file_extension": ".py",
   "mimetype": "text/x-python",
   "name": "python",
   "nbconvert_exporter": "python",
   "pygments_lexer": "ipython3",
   "version": "3.9.5"
  }
 },
 "nbformat": 4,
 "nbformat_minor": 5
}
